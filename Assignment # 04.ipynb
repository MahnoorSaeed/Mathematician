{
 "cells": [
  {
   "cell_type": "code",
   "execution_count": 4,
   "metadata": {},
   "outputs": [
    {
     "name": "stdout",
     "output_type": "stream",
     "text": [
      "Mahnoor\n",
      "Saeed\n",
      "24\n",
      "Karachi\n",
      "M.Sc.\n",
      "\n",
      " {'first_name': 'Mahnoor', 'last_name': 'Saeed', 'age': 24, 'city': 'Karachi'}\n"
     ]
    }
   ],
   "source": [
    "#Question1:\n",
    "#Use a dictionary to store information about a person you know. \n",
    "#Store their first name, last name, age, and the city in which they live.\n",
    "#You should have keys such as first_name, last_name, age, and city. \n",
    "#Print each piece of information stored in your dictionary. \n",
    "#Add a new key value pair about qualification then update the qualification value to high academic level then delete it.\n",
    "\n",
    "person = {\n",
    "    'first_name': 'Mahnoor',\n",
    "    'last_name': 'Saeed',\n",
    "    'age': 24,\n",
    "    'city': 'Karachi',\n",
    "        }\n",
    "\n",
    "print(person['first_name'])\n",
    "print(person['last_name'])\n",
    "print(person['age'])\n",
    "print(person['city'])\n",
    "\n",
    "person.update({'qualification': 'M.Sc.'})\n",
    "print(person['qualification'])\n",
    "\n",
    "del person['qualification']\n",
    "\n",
    "print(\"\\n\",person)\n",
    "\n"
   ]
  },
  {
   "cell_type": "code",
   "execution_count": 3,
   "metadata": {},
   "outputs": [
    {
     "name": "stdout",
     "output_type": "stream",
     "text": [
      "Name of city is  Karachi\n",
      "Country Name is :  Pakistan\n",
      "Approximate population is :  14.91 million\n",
      "Fact of the city is :  Karachi is the Capital of the Pakistani province od Sindh it is the most popular city in Pakistan and fifth-most-popular city in the world\n",
      "==========================================================================================================================\n",
      "Name of city is  Bangkok\n",
      "Country Name is :  Thiland\n",
      "Approximate population is :  8.281 million approx\n",
      "Fact of the city is :  The world knows the Thailand capital as Bangkok, but locals refer to their city as Krungthep or 'City of Angels'. Bangkok is Home to Red Bull\n",
      "==========================================================================================================================\n",
      "Name of city is  Tokyo\n",
      "Country Name is :  Japan\n",
      "Approximate population is :  9.273 million approx\n",
      "Fact of the city is :  Tokyo is the largest metropolitan area in the world, hosting over 36 million people spread over three prefectures.\n",
      "==========================================================================================================================\n"
     ]
    }
   ],
   "source": [
    "#Question2:\n",
    "#Make a dictionary called cities. \n",
    "#Use the names of three cities as keys in your dictionary. \n",
    "#Create a dictionary of information about each city and include the country that the city is in,\n",
    "#its approximate population, and one fact about that city. \n",
    "#The keys for each city’s dictionary should be something like country, population, and fact. \n",
    "#Print the name of each city and all of the information you have stored about it.\n",
    "\n",
    "city ={\n",
    "    \"Karachi\" : {\n",
    "        \"country\": \"Pakistan\",\n",
    "        \"approximate_population\":\"14.91 million\",\n",
    "        \"fact\":\"Karachi is the Capital of the Pakistani province od Sindh it is the most popular city in Pakistan and fifth-most-popular city in the world\"\n",
    "    },\n",
    "    \"Bangkok\" : {\n",
    "        \"country\": \"Thiland\",\n",
    "        \"approximate_population\":\"8.281 million approx\",\n",
    "        \"fact\":\"The world knows the Thailand capital as Bangkok, but locals refer to their city as Krungthep or 'City of Angels'. Bangkok is Home to Red Bull\"\n",
    "    },\n",
    "    \"Tokyo\" : {\n",
    "        \"country\": \"Japan\",\n",
    "        \"approximate_population\":\"9.273 million approx\",\n",
    "        \"fact\":\"Tokyo is the largest metropolitan area in the world, hosting over 36 million people spread over three prefectures.\"\n",
    "    }\n",
    "}\n",
    "    \n",
    "for i in city.keys():\n",
    "    print(\"Name of city is \", i)\n",
    "    print(\"Country Name is : \" , city[i][\"country\"])\n",
    "    print(\"Approximate population is : \" , city[i][\"approximate_population\"])\n",
    "    print(\"Fact of the city is : \" , city[i][\"fact\"])\n",
    "    print(\"==========================================================================================================================\")\n"
   ]
  },
  {
   "cell_type": "code",
   "execution_count": 4,
   "metadata": {},
   "outputs": [
    {
     "name": "stdout",
     "output_type": "stream",
     "text": [
      "Welcome To Movie Theater\n",
      "Enter the no. of Person : 3\n",
      "Enter The Age Of Person: 5\n",
      "Your Ticket price will be 10$\n",
      "Enter The Age Of Person: 17\n",
      "Your Ticket price will be 15$\n",
      "Enter The Age Of Person: 25\n",
      "Your Ticket price will be 15$\n",
      "Total Amount =  40  $ Enjoy Your Movie\n"
     ]
    }
   ],
   "source": [
    "#Question3:\n",
    "#A movie theater charges different ticket prices depending on a person’s age.\n",
    "#If a person is under the age of 3, the ticket is free; \n",
    "#if they are between 3 and 12, the ticket is $10; and if they are over age 12, the ticket is $15. \n",
    "#Write a loop in which you ask users their age, and then tell them the cost of their movie ticket.\n",
    "\n",
    "print(\"Welcome To Movie Theater\")\n",
    "persons = int(input(\"Enter the no. of Person : \"))\n",
    "\n",
    "total_price = 0\n",
    "\n",
    "for i in range(1,persons+1):\n",
    "    age = int(input(\"Enter The Age Of Person: \"))\n",
    "    if age <= 3:\n",
    "        print(\"Your Ticket is Free! Enjoy Your Movie\")\n",
    "    elif age <= 12:\n",
    "        print(\"Your Ticket price will be 10$\")\n",
    "        total_price +=10\n",
    "    else:\n",
    "        print(\"Your Ticket price will be 15$\")\n",
    "        total_price +=15\n",
    "\n",
    "print(\"Total Amount = \",total_price,\" $ Enjoy Your Movie\")"
   ]
  },
  {
   "cell_type": "code",
   "execution_count": 5,
   "metadata": {},
   "outputs": [
    {
     "name": "stdout",
     "output_type": "stream",
     "text": [
      "Enter The Book Title: The Hobbit\n",
      "\n",
      "One of my favorite books is The Hobbit\n"
     ]
    }
   ],
   "source": [
    "#Question4:\n",
    "#Write a function called favorite_book() that accepts one parameter, title.\n",
    "#The function should print a message, such as One of my favorite books is Alice in Wonderland. \n",
    "#Call the function, making sure to include a book title as an argument in the function call.\n",
    "\n",
    "def fav_book(book_name):\n",
    "    print(\"\\nOne of my favorite books is\",book_name)\n",
    "    \n",
    "title=input(\"Enter The Book Title: \")\n",
    "\n",
    "fav_book(title)"
   ]
  },
  {
   "cell_type": "code",
   "execution_count": 3,
   "metadata": {},
   "outputs": [
    {
     "name": "stdout",
     "output_type": "stream",
     "text": [
      "Guess the number between 1 to 30 : 4\n",
      "\n",
      "Your guess is lower than the correct number\n",
      "Guess the number between 1 to 30 : 15\n",
      "\n",
      "Your guess is lower than the correct number\n",
      "Guess the number between 1 to 30 : 25\n",
      "\n",
      "Your guess is higher than the correct number\n",
      "\n",
      "Better Luck for next time !\n",
      "Correct Number is  24\n"
     ]
    }
   ],
   "source": [
    "#Question5:\n",
    "#Guess the number game\n",
    "#Write a program which randomly generate a number between 1 to 30.\n",
    "#Ask the user in input field to guess the correct number. \n",
    "#Give three chances to user guess the number and also give \n",
    "#hint to user if hidden number is greater or smaller than the number he given to input field.\n",
    "\n",
    "import random\n",
    "random_number = random.randrange(1,30)\n",
    "flag = False\n",
    "\n",
    "for i in range(1,4):\n",
    "    guess = int(input(\"Guess the number between 1 to 30 : \"))\n",
    "    if guess == random_number:\n",
    "        flag = True \n",
    "        break\n",
    "    elif guess < random_number:\n",
    "        print(\"\\nYour guess is lower than the correct number\")\n",
    "    else:\n",
    "        print(\"\\nYour guess is higher than the correct number\")\n",
    "        \n",
    "if flag:\n",
    "    print(\"Congratulation you Win !! And guess the correct number.\")\n",
    "else:\n",
    "    print(\"\\nBetter Luck for next time !\")\n",
    "    print(\"Correct Number is \", random_number)\n",
    "    "
   ]
  },
  {
   "cell_type": "code",
   "execution_count": null,
   "metadata": {},
   "outputs": [],
   "source": []
  }
 ],
 "metadata": {
  "kernelspec": {
   "display_name": "Python 3",
   "language": "python",
   "name": "python3"
  },
  "language_info": {
   "codemirror_mode": {
    "name": "ipython",
    "version": 3
   },
   "file_extension": ".py",
   "mimetype": "text/x-python",
   "name": "python",
   "nbconvert_exporter": "python",
   "pygments_lexer": "ipython3",
   "version": "3.7.4"
  }
 },
 "nbformat": 4,
 "nbformat_minor": 2
}
