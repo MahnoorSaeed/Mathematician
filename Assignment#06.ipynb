{
 "cells": [
  {
   "cell_type": "markdown",
   "metadata": {},
   "source": [
    "# ASSIGNMENT # 06\n",
    "### Question 1: Define Object Oriented Programming Language?\n",
    "\n",
    "Object-oriented language (OOL) is a high-level computer programming language that implements objects and \n",
    "their associated procedures within the programming context to create software programs.\n",
    "Object-oriented language uses an object-oriented programming technique that binds related data \n",
    "and functions into an object and encourages reuse of these objects within the same and other programs.\n",
    "\n",
    "Key characteristics of object-oriented programming include encapsulation and data hiding, inheritance, and polymorphism.\n",
    "1. Object-oriented programming collects information into single entities called objects.\n",
    "2. Each object is a single instance of a class.\n",
    "3. Abstraction hides the inner workings of an object when it’s not necessary to see them.\n",
    "4. Encapsulation stores related variables and methods within objects and protects them.\n",
    "5. Inheritance allows sub-classes to use attributes from parent classes.\n",
    "6. Polymorphism allows objects and methods to deal with multiple different situations with a single interface."
   ]
  },
  {
   "cell_type": "markdown",
   "metadata": {},
   "source": [
    "### Question 2: List down the Benefits of OOP?\n",
    "\n",
    "1. The programmes written with OOP are really easy to understand.\n",
    "2. Since everything is treated as objects, so we can model a real-world concept using OOP.\n",
    "3. OOP approach offers the reusability of classes. We can reuse the classes that are already created without writing them again and again.\n",
    "4. Since the parallel development of classes is possible in OOP concept, It results in the quick development of the complete programmes.\n",
    "5. Programmes written in OOP technique are marginally easier to test, manage as well as maintain.\n",
    "6. It is a secured development technique since data is hidden and can’t be accessed by external functions."
   ]
  },
  {
   "cell_type": "markdown",
   "metadata": {},
   "source": [
    "### Question 3: Differentiate between function and method?\n",
    "\n",
    "#### *Method*\n",
    "Method is called by its name, but it is associated to an object (dependent).\n",
    "A method is implicitly passed the object on which it is invoked.\n",
    "It may or may not return any data.\n",
    "A method can operate on the data (instance variables) that is contained by the corresponding class\n",
    "\n",
    "#### *Functions*\n",
    "Function is block of code that is also called by its name. (independent)\n",
    "The function can have different parameters or may not have any at all. If any data (parameters) are passed, they are passed explicitly.\n",
    "It may or may not return any data.\n",
    "Function does not deal with Class and its instance concept.\n",
    "\n",
    "#### *Difference between method and function*\n",
    "Function and Method are all same except, method is a function defined inside a class."
   ]
  },
  {
   "cell_type": "markdown",
   "metadata": {},
   "source": [
    "### Question 4: Define the following terms:\n",
    "### 1.  Class\n",
    "### 2.  Object\n",
    "### 3.  Attribute\n",
    "### 4.  Behavior\n",
    "\n",
    "#### 1. Class:\n",
    "object-oriented programming and provides reusable code in the form of classes. A class is like a template or blueprint for data and operations. It consists of a number of attributes that include variables and methods. The variables are called data members, and methods are called member functions. The functions define the operations that can be applied\n",
    "to data members. From classes, you create instances, also known as objects. We can create either an independent class or one that inherits from other classes. The class that inherits is also known as a derived class or a sub-class, and the class that is inherited from is known as a super or base class. When creating a derived class, you specify the comma-delimited base classes from which the new class is going to be derived. The base classes are also known as the parents of the new class being created. The new class inherits the attributes of its parent classes. It can override any of the parent’s attributes and can add attributes of its own. \n",
    "Base classes are optional. To create a class without bases, you can omit ( b a s e - c l a s s e s ) , placing the colon right\n",
    "after c l a s s n a m e . The sequence of statements that follows the class statement is known as the class body, where you specify the functions and other attributes of the class.\n",
    "\n",
    "#### 2. Object:\n",
    "Object is simply a collection of data (variables) and methods (functions) that act on those data. And, class is a blueprint for the object.\n",
    "    \n",
    "#### 3. Attribute:\n",
    "As an object-oriented language, Python provides two scopes for attributes: class attributes and instance attributes.\n",
    "*An instance attribute is a Python variable belonging to one, and only one, object. This variable is only accessible in the scope of this object and it is defined inside the constructor function, __init__(self,..) of the class.\n",
    "*A class attribute is a Python variable that belongs to a class rather than a particular object. It is shared between all the objects of this class and it is defined outside the \n",
    "constructor function, __init__(self,...), of the class.\n",
    "        \n",
    "#### 4. Behavior:\n",
    "Behave is behaviour-driven development, Python style.\n",
    "Behavior testing simply means that we should test how an application behaves in certain situations. Often the behavior is given to us developers by our customers. They describe the functionality of an application, and we write code to meet their specifications. Behavioral tests are a tool to formalize their requirements into tests. This leads naturally to behavior-driven development (BDD).  "
   ]
  },
  {
   "cell_type": "code",
   "execution_count": 37,
   "metadata": {},
   "outputs": [
    {
     "name": "stdout",
     "output_type": "stream",
     "text": [
      "\u001b[1mBefore Changing : \u001b[0m\n",
      "Car Properties\n",
      "Name         : Civic\n",
      "Model        : 2019\n",
      "Color        : Black\n",
      "Company      : Honda\n",
      "\n",
      "Car Properties\n",
      "Name         : City\n",
      "Model        : 2018\n",
      "Color        : White\n",
      "Company      : Honda\n",
      "\n",
      "\u001b[1mAfter Changing : \u001b[0m\n",
      "Car Properties\n",
      "Name         : ViGO\n",
      "Model        : 2019\n",
      "Color        : Black\n",
      "Company      : Hilux\n",
      "\n",
      "Car Properties\n",
      "Name         : City\n",
      "Model        : 2018\n",
      "Color        : Blue\n",
      "Company      : Honda\n",
      "\n"
     ]
    }
   ],
   "source": [
    "#Question 5:\n",
    "#Write a code in python in which create a class named it Car which have 5 attributes \n",
    "#such like (model, color and name etc.) and 3 methods. And create 5 object instance from that class. \n",
    "\n",
    "class Car():\n",
    "    # Init method\n",
    "    def __init__(self, name, model, color, company):\n",
    "        self.name = name\n",
    "        self.model = model\n",
    "        self.color = color\n",
    "        self.company = company\n",
    "        \n",
    "    # show_properties method\n",
    "    def show_properties(self):\n",
    "        print(\"Car Properties\")\n",
    "        print(f\"Name         : {self.name}\")\n",
    "        print(f\"Model        : {self.model}\")\n",
    "        print(f\"Color        : {self.color}\")\n",
    "        print(f\"Company      : {self.company}\\n\")\n",
    "        \n",
    "    def update_name(self, newname):\n",
    "        self.name = newname\n",
    "    \n",
    "    def update_color(self, newcolor):\n",
    "        self.color = newcolor\n",
    "        \n",
    "    def update_company(self, newcompany):\n",
    "        self.company = newcompany\n",
    "        \n",
    "    def update_model(self, newmodel):\n",
    "        self.model = newmodel\n",
    "\n",
    "car1 = Car(\"Civic\", 2019, \"Black\", \"Honda\")\n",
    "car2 = Car(\"Range Rover\", 2006, \"Grey\", \"Land Rover\")\n",
    "car3 = Car(\"Corolla\", 2016, \"Black\", \"Toyota\")\n",
    "car4 = Car(\"Passo\", 2017, \"White\", \"Toyota\")\n",
    "car5 = Car(\"City\", 2018, \"White\", \"Honda\")\n",
    "       \n",
    "print('\\033[1m'+\"Before Changing : \"+ '\\033[0m')\n",
    "car1.show_properties()\n",
    "car5.show_properties()\n",
    "\n",
    "car1.update_name(\"ViGO\")\n",
    "car1.update_company(\"Hilux\")\n",
    "car5.update_color(\"Blue\")\n",
    "\n",
    "print('\\033[1m'+\"After Changing : \"+ '\\033[0m')\n",
    "car1.show_properties()\n",
    "car5.show_properties()"
   ]
  },
  {
   "cell_type": "code",
   "execution_count": null,
   "metadata": {},
   "outputs": [],
   "source": []
  }
 ],
 "metadata": {
  "kernelspec": {
   "display_name": "Python 3",
   "language": "python",
   "name": "python3"
  },
  "language_info": {
   "codemirror_mode": {
    "name": "ipython",
    "version": 3
   },
   "file_extension": ".py",
   "mimetype": "text/x-python",
   "name": "python",
   "nbconvert_exporter": "python",
   "pygments_lexer": "ipython3",
   "version": "3.7.4"
  }
 },
 "nbformat": 4,
 "nbformat_minor": 2
}
