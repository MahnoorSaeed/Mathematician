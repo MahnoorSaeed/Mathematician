{
 "cells": [
  {
   "cell_type": "code",
   "execution_count": 1,
   "metadata": {},
   "outputs": [
    {
     "name": "stdout",
     "output_type": "stream",
     "text": [
      "Enter marks of  Computer    = 60\n",
      "Enter marks of  Mathematics = 79\n",
      "Enter marks of  Urdu        = 45\n",
      "Enter marks of  Science     = 55\n",
      "Enter marks of  English     = 64\n",
      "\n",
      "Total Marks out of 500 = 294 \n",
      "Percentage = 58.8\n",
      "Grade: C\n"
     ]
    }
   ],
   "source": [
    "s1=int(input(\"Enter marks of  Computer    = \"))\n",
    "s2=int(input(\"Enter marks of  Mathematics = \"))\n",
    "s3=int(input(\"Enter marks of  Urdu        = \"))\n",
    "s4=int(input(\"Enter marks of  Science     = \"))\n",
    "s5=int(input(\"Enter marks of  English     = \"))\n",
    "tot=(s1+s2+s3+s4+s4)\n",
    "Per= (tot/500)*100\n",
    "print (\"\\nTotal Marks out of 500 = {0} \".format(tot))\n",
    "print (\"Percentage = {0}\".format(Per))\n",
    "if(Per>=80):\n",
    "    print(\"Grade: A+\")\n",
    "elif(Per>=70):\n",
    "    print(\"Grade: A\")\n",
    "elif(Per>=60):\n",
    "    print(\"Grade: B\")\n",
    "elif(Per>=50):\n",
    "    print(\"Grade: C\")\n",
    "else:\n",
    "    print(\"Grade: F\")"
   ]
  },
  {
   "cell_type": "code",
   "execution_count": 3,
   "metadata": {},
   "outputs": [
    {
     "name": "stdout",
     "output_type": "stream",
     "text": [
      "Enter any Number = 88\n",
      "Entered number 88 is Even\n"
     ]
    }
   ],
   "source": [
    "n = int(input(\"Enter any Number = \"))\n",
    "if (n % 2) == 0:\n",
    "   print(\"Entered number {0} is Even\".format(n))\n",
    "else:\n",
    "   print(\"Entered number {0} is Odd\".format(n))"
   ]
  },
  {
   "cell_type": "code",
   "execution_count": 6,
   "metadata": {},
   "outputs": [
    {
     "name": "stdout",
     "output_type": "stream",
     "text": [
      "5\n",
      "12\n"
     ]
    }
   ],
   "source": [
    "m = [\"Keyboard\",\"Mouse\",\"Monitor\",\"Speaker\",\"CPU\"]\n",
    "s = [1,2,33,67,90,91,657,94342,12,675,32,6]\n",
    "print(len(m))\n",
    "print(len(s))"
   ]
  },
  {
   "cell_type": "code",
   "execution_count": 8,
   "metadata": {},
   "outputs": [
    {
     "name": "stdout",
     "output_type": "stream",
     "text": [
      "Enter number of elements : 3\n",
      "1\n",
      "2\n",
      "3\n",
      "[1, 2, 3]\n",
      "Sum of entered entries =  6\n"
     ]
    }
   ],
   "source": [
    "lst = [] \n",
    "n = int(input(\"Enter number of elements : \")) \n",
    "for i in range(0, n): \n",
    "    ele = int(input()) \n",
    "    lst.append(ele)\n",
    "print(lst)\n",
    "print(\"Sum of entered entries = \",sum(lst))"
   ]
  },
  {
   "cell_type": "code",
   "execution_count": 11,
   "metadata": {},
   "outputs": [
    {
     "name": "stdout",
     "output_type": "stream",
     "text": [
      "Enter number of elements : 5\n",
      "123\n",
      "345\n",
      "475\n",
      "76\n",
      "879\n",
      "[123, 345, 475, 76, 879]\n",
      "Largest number in the list is 879\n"
     ]
    }
   ],
   "source": [
    "lst = [] \n",
    "n = int(input(\"Enter number of elements : \")) \n",
    "for i in range(0, n): \n",
    "    ele = int(input()) \n",
    "    lst.append(ele)\n",
    "print(lst)\n",
    "print(\"Largest number in the list is\",max(lst))"
   ]
  },
  {
   "cell_type": "code",
   "execution_count": 36,
   "metadata": {},
   "outputs": [
    {
     "name": "stdout",
     "output_type": "stream",
     "text": [
      "[1, 1, 2, 3, 5, 8, 13, 21, 34, 55, 89]\n",
      "1\n",
      "1\n",
      "2\n",
      "3\n"
     ]
    }
   ],
   "source": [
    "a = [1, 1, 2, 3, 5, 8, 13, 21, 34, 55, 89]\n",
    "print(a)\n",
    "for i in a:\n",
    "    if i < 5:\n",
    "\n",
    "        print(i)"
   ]
  },
  {
   "cell_type": "code",
   "execution_count": null,
   "metadata": {},
   "outputs": [],
   "source": []
  }
 ],
 "metadata": {
  "kernelspec": {
   "display_name": "Python 3",
   "language": "python",
   "name": "python3"
  },
  "language_info": {
   "codemirror_mode": {
    "name": "ipython",
    "version": 3
   },
   "file_extension": ".py",
   "mimetype": "text/x-python",
   "name": "python",
   "nbconvert_exporter": "python",
   "pygments_lexer": "ipython3",
   "version": "3.7.4"
  }
 },
 "nbformat": 4,
 "nbformat_minor": 2
}
