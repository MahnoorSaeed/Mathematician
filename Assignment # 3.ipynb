{
 "cells": [
  {
   "cell_type": "code",
   "execution_count": 5,
   "metadata": {},
   "outputs": [
    {
     "name": "stdout",
     "output_type": "stream",
     "text": [
      "Enter any operator (/,*,+,-,^) = ^\n",
      "Enter first number = 6\n",
      "Enter second number = 2\n",
      "36 answer\n"
     ]
    }
   ],
   "source": [
    "#Make a calculator using Python with addition , subtraction , multiplication , division and power.\n",
    "\n",
    "operator = input('Enter any operator (/,*,+,-,^) = ')\n",
    "v1 = int(input('Enter first number = '))\n",
    "v2= int(input('Enter second number = '))\n",
    "if operator == '+':\n",
    "    val = v1 + v2\n",
    "    print(val,'answer')\n",
    "elif operator == '-':\n",
    "    val = v1 - v2\n",
    "    print(val,'answer')\n",
    "elif operator == '*':\n",
    "    val = v1 * v2\n",
    "    print(val,'answer')\n",
    "elif operator == '/':\n",
    "    val = v1 / v2\n",
    "    print(val,'answer')\n",
    "elif operator == '^':\n",
    "    val = v1**v2\n",
    "    print(val,'answer')    \n",
    "else:\n",
    "    print('Enter correct operator')"
   ]
  },
  {
   "cell_type": "code",
   "execution_count": 2,
   "metadata": {},
   "outputs": [
    {
     "name": "stdout",
     "output_type": "stream",
     "text": [
      "Key is present in the dictionary\n",
      "Key is not present in the dictionary\n"
     ]
    }
   ],
   "source": [
    "#Write a Python script to check if a given key already exists in a dictionary \n",
    "\n",
    "M = {\"First Name\": \"Mahnoor\", \"Age\": \"24\", \"City\": \"Karachi\", \"Phone#\": 311}\n",
    "def present(x):\n",
    "  if x in M:\n",
    "      print('Key is present in the dictionary')\n",
    "  else:\n",
    "      print('Key is not present in the dictionary')\n",
    "        \n",
    "present(\"Age\")\n",
    "\n",
    "present(\"Name\")"
   ]
  },
  {
   "cell_type": "code",
   "execution_count": 32,
   "metadata": {},
   "outputs": [
    {
     "name": "stdout",
     "output_type": "stream",
     "text": [
      "[1, 'B', 2, 3, 5, 'A', 13, 'Cat', 34, 55, 'Python']\n",
      "Numeric Values found in List is 1\n",
      "Numeric Values found in List is 2\n",
      "Numeric Values found in List is 3\n",
      "Numeric Values found in List is 5\n",
      "Numeric Values found in List is 13\n",
      "Numeric Values found in List is 34\n",
      "Numeric Values found in List is 55\n"
     ]
    }
   ],
   "source": [
    "#Write a program to check if there is any numeric value in list using for loop\n",
    "\n",
    "a = [1, \"B\", 2, 3, 5, \"A\", 13, \"Cat\", 34, 55, \"Python\"]\n",
    "print(a)\n",
    "for i in a:\n",
    "    if type(i)==int:\n",
    "        print(\"Numeric Values found in List is\",i)"
   ]
  },
  {
   "cell_type": "code",
   "execution_count": 29,
   "metadata": {},
   "outputs": [
    {
     "name": "stdout",
     "output_type": "stream",
     "text": [
      "{'name': 'Asad', 'f.name': 'Saeed', 'class': 'IX'}\n",
      "{'name': 'Asad', 'f.name': 'Saeed', 'class': 'IX', 'Age': '13years', 'Group': 'Computer Science'}\n"
     ]
    }
   ],
   "source": [
    "#Write a Python script to add a key to a dictionary\n",
    "\n",
    "stu_data = {\"name\":\"Asad\", \"f.name\":\"Saeed\",\"class\":\"IX\"}\n",
    "print(stu_data)\n",
    "\n",
    "stu_data.update({\"Age\":\"13years\", \"Group\":\"Computer Science\"})\n",
    "print(stu_data)"
   ]
  },
  {
   "cell_type": "code",
   "execution_count": 8,
   "metadata": {},
   "outputs": [
    {
     "name": "stdout",
     "output_type": "stream",
     "text": [
      "Total sum of values in the dictionary:\n",
      "69\n"
     ]
    }
   ],
   "source": [
    "#Write a Python program to sum all the numeric items in a dictionary\n",
    "\n",
    "qty = {\"apple\": 10 , \"Bananas\": 12, \"Oranges\": 13, \"Kiwi\": 34}\n",
    "print(\"Total sum of values in the dictionary:\")\n",
    "print(sum(qty.values()))"
   ]
  },
  {
   "cell_type": "code",
   "execution_count": 33,
   "metadata": {},
   "outputs": [
    {
     "name": "stdout",
     "output_type": "stream",
     "text": [
      "Repeated item in list are [1, 2, 88, 4, 100, 45]\n"
     ]
    }
   ],
   "source": [
    "#Write a program to identify duplicate values from list\n",
    "\n",
    "list1 = [1,2,1,88,101,900,3,1,4,1,4,2,5,9,100,45,42,98,100,88,35,45]\n",
    "unique = len(list1)\n",
    "rep=[]\n",
    "for i in range (unique):\n",
    "    a = i + 1\n",
    "    for b in range(a,unique):\n",
    "        if list1[i] == list1[b] and list1[i] not in rep:\n",
    "            rep.append(list1[i])\n",
    "print(\"Repeated item in list are\",rep)"
   ]
  }
 ],
 "metadata": {
  "kernelspec": {
   "display_name": "Python 3",
   "language": "python",
   "name": "python3"
  },
  "language_info": {
   "codemirror_mode": {
    "name": "ipython",
    "version": 3
   },
   "file_extension": ".py",
   "mimetype": "text/x-python",
   "name": "python",
   "nbconvert_exporter": "python",
   "pygments_lexer": "ipython3",
   "version": "3.7.4"
  }
 },
 "nbformat": 4,
 "nbformat_minor": 2
}
