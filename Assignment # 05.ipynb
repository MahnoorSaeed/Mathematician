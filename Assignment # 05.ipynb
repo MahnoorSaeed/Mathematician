{
 "cells": [
  {
   "cell_type": "code",
   "execution_count": 7,
   "metadata": {},
   "outputs": [
    {
     "name": "stdout",
     "output_type": "stream",
     "text": [
      "Enter a number to calculate the factiorial : 11\n",
      "39916800\n"
     ]
    }
   ],
   "source": [
    "#Question:1\n",
    "#Write a Python function to calculate the factorial of a number (a non-negative integer).\n",
    "#The function accepts the number as an argument.\n",
    "\n",
    "def fact(number):\n",
    "    if number == 0:\n",
    "        return 1\n",
    "    else:\n",
    "        return number * fact(number-1)\n",
    "number=int(input(\"Enter a number to calculate the factiorial : \"))\n",
    "print(fact(number))"
   ]
  },
  {
   "cell_type": "code",
   "execution_count": 2,
   "metadata": {},
   "outputs": [
    {
     "name": "stdout",
     "output_type": "stream",
     "text": [
      "Enter a string value with lower and uppercase letters :MaHNOoR SaEEd\n",
      "Original String :  MaHNOoR SaEEd\n",
      "No. of Upper case characters :  8\n",
      "No. of Lower case Characters :  4\n",
      "None\n"
     ]
    }
   ],
   "source": [
    "#Question:2\n",
    "#Write a Python function that accepts a string and calculate the number of upper case letters and lower case letters.\n",
    "\n",
    "def string_test(s):\n",
    "    value={\"UPPER_CASE\":0, \"LOWER_CASE\":0}\n",
    "     \n",
    "    for c in s:\n",
    "        if c.isupper():\n",
    "           value[\"UPPER_CASE\"]+=1\n",
    "        elif c.islower():\n",
    "           value[\"LOWER_CASE\"]+=1\n",
    "        else:\n",
    "           pass\n",
    "    print (\"Original String : \", s)\n",
    "    print (\"No. of Upper case characters : \", value[\"UPPER_CASE\"])\n",
    "    print (\"No. of Lower case Characters : \", value[\"LOWER_CASE\"])\n",
    "\n",
    "print(string_test(s = input('Enter a string value with lower and uppercase letters :')))"
   ]
  },
  {
   "cell_type": "code",
   "execution_count": 3,
   "metadata": {},
   "outputs": [
    {
     "name": "stdout",
     "output_type": "stream",
     "text": [
      "[1110, 1226, 74, 16, 82]\n"
     ]
    }
   ],
   "source": [
    "#Question:3\n",
    "#Write a Python function to print the even numbers from a given list.\n",
    "\n",
    "def even_num(l):\n",
    "    even = []\n",
    "    for n in l:\n",
    "        if n % 2 == 0:\n",
    "            even.append(n)\n",
    "    return even\n",
    "print(even_num([1110, 1226, 113, 74, 25, 16, 17, 82, 99]))"
   ]
  },
  {
   "cell_type": "code",
   "execution_count": 4,
   "metadata": {},
   "outputs": [
    {
     "name": "stdout",
     "output_type": "stream",
     "text": [
      "True\n"
     ]
    }
   ],
   "source": [
    "#Question:4\n",
    "#Write a Python function that checks whether a passed string is palindrome or not.\n",
    "#Note: A palindrome is a word, phrase, or sequence that reads the same backward as forward, e.g., madam\n",
    "\n",
    "def is_palindrome(string):\n",
    "    left = 0\n",
    "    right = len(string) - 1\n",
    "    while right >= left:\n",
    "        if not string[left] == string[right]:\n",
    "            return False\n",
    "        else:\n",
    "            left += 1\n",
    "            right -= 1\n",
    "            return True\n",
    "print(is_palindrome('madam'))"
   ]
  },
  {
   "cell_type": "code",
   "execution_count": 5,
   "metadata": {},
   "outputs": [
    {
     "name": "stdout",
     "output_type": "stream",
     "text": [
      "Enter a number: 17\n",
      "17 is a prime number\n"
     ]
    }
   ],
   "source": [
    "#Question:5\n",
    "#Write a Python function that takes a number as a parameter and check the number is prime or not.\n",
    "\n",
    "num = int(input(\"Enter a number: \"))  \n",
    "  \n",
    "if num > 1:  \n",
    "   for i in range(2,num):  \n",
    "       if (num % i) == 0:  \n",
    "           print(num,\"is not a prime number\")  \n",
    "           print(i,\"times\",num//i,\"is\",num)  \n",
    "           break  \n",
    "   else:  \n",
    "       print(num,\"is a prime number\")  \n",
    "         \n",
    "else:  \n",
    "   print(num,\"is not a prime number\")"
   ]
  },
  {
   "cell_type": "code",
   "execution_count": 6,
   "metadata": {},
   "outputs": [
    {
     "name": "stdout",
     "output_type": "stream",
     "text": [
      " You Selected Chocolates\n",
      " You Selected Biscuits\n",
      " You Selected Chips\n",
      " You Selected Drinks\n",
      " You Selected Cereals\n"
     ]
    }
   ],
   "source": [
    "#Question: 6\n",
    "#Suppose a customer is shopping in a market and you need to print all the items which user bought from market.\n",
    "#Write a function which accepts the multiple arguments of user shopping list and print all the items which user bought from market.\n",
    "#(Hint: Arbitrary Argument concept can make this task ease) \n",
    "\n",
    "def shopping(*items):\n",
    "    for item in items:\n",
    "        print(\" You Selected\",item)\n",
    "        \n",
    "shopping('Chocolates','Biscuits','Chips','Drinks','Cereals')"
   ]
  },
  {
   "cell_type": "code",
   "execution_count": null,
   "metadata": {},
   "outputs": [],
   "source": []
  }
 ],
 "metadata": {
  "kernelspec": {
   "display_name": "Python 3",
   "language": "python",
   "name": "python3"
  },
  "language_info": {
   "codemirror_mode": {
    "name": "ipython",
    "version": 3
   },
   "file_extension": ".py",
   "mimetype": "text/x-python",
   "name": "python",
   "nbconvert_exporter": "python",
   "pygments_lexer": "ipython3",
   "version": "3.7.4"
  }
 },
 "nbformat": 4,
 "nbformat_minor": 2
}
